{
 "cells": [
  {
   "cell_type": "code",
   "execution_count": 12,
   "id": "2242303c-e070-4cc9-a4bd-c344a8080d06",
   "metadata": {},
   "outputs": [],
   "source": [
    "import numpy as np"
   ]
  },
  {
   "cell_type": "code",
   "execution_count": 2,
   "id": "c0c088bf-d6aa-45b9-a923-99a0cf85b7b6",
   "metadata": {},
   "outputs": [],
   "source": [
    "def my_dense(a_in, W, b, g):\n",
    "    \"\"\"\n",
    "     a_in  (n, ) : Data, 1 example \n",
    "      W:   (n,j),Weight matrix, n features per unit, j units\n",
    "      b:   (j, ) : bias vector, j units  \n",
    "      g:    activation function (e.g. sigmoid, relu..)\n",
    "    \"\"\"\n",
    "    A_out = g(np.matmult(a_in, W) + b)\n",
    "    return(A_out)"
   ]
  },
  {
   "cell_type": "code",
   "execution_count": null,
   "id": "67dbc9bf-99ce-46c9-a609-88da525b98de",
   "metadata": {},
   "outputs": [],
   "source": [
    "def my_denseNV(a_in, W, b, g):\n",
    "    \"\"\"\n",
    "     a_in  (n, ) : Data, 1 example \n",
    "      W:   (n,j),Weight matrix, n features per unit, j units\n",
    "      b:   (j, ) : bias vector, j units  \n",
    "      g:    activation function (example: sigmoid), will be given through either lamda, or keyword which will be found in a dictionary\n",
    "    \"\"\"\n",
    "    units = W.shape[1]\n",
    "    A_out = np.zeros(units)\n",
    "    for i in range(units):\n",
    "        w = W[:i]\n",
    "        z  = (np.dot(a_in, w) + b[i]\n",
    "        A_out[i] = g(z)\n",
    "    return A_out"
   ]
  },
  {
   "cell_type": "code",
   "execution_count": 4,
   "id": "79422a70-aa9c-4ccb-a8ce-d8f9bdaad077",
   "metadata": {},
   "outputs": [],
   "source": [
    "def my_sequential_v(*args):\n",
    "    # should be an even amount of numbers considering that every dense will have 2 params\n",
    "    if len(args) % 2 != 0:\n",
    "        print(\"Error\")\n",
    "        exit()\n",
    "    cnt = 0\n",
    "    A = []\n",
    "    for w , b in args:\n",
    "        A.add(my_dense_v(X,  W1, b1, sigmoid))\n",
    "        "
   ]
  },
  {
   "cell_type": "code",
   "execution_count": 6,
   "id": "40ef523b-dd19-4b05-96a7-d2e155cec82d",
   "metadata": {},
   "outputs": [],
   "source": [
    "def compile(g):\n",
    "    # g is a loss function\n",
    "    pass"
   ]
  },
  {
   "cell_type": "code",
   "execution_count": null,
   "id": "3caeb836-6280-424f-afca-e11caab58409",
   "metadata": {},
   "outputs": [],
   "source": [
    "def fit(X, Y, epochs=10):\n",
    "    \"\"\"\n",
    "    X: training set,data\n",
    "    Y: labels\n",
    "    epochs: number of steps to learn\n",
    "    \"\"\""
   ]
  },
  {
   "cell_type": "code",
   "execution_count": 40,
   "id": "a76f8f53-d47b-4ad6-892d-b2c2d1965e73",
   "metadata": {},
   "outputs": [
    {
     "name": "stdout",
     "output_type": "stream",
     "text": [
      "(2, 3)\n",
      "(2, 1)\n",
      "(3, 2)\n",
      "[[143]\n",
      " [190]\n",
      " [237]]\n"
     ]
    }
   ],
   "source": [
    "X = np.array([[1,2,3],[4,5,6]])\n",
    "W = np.array([[1],[2],[3]])\n",
    "Y = np.array([[2],[3]])\n",
    "b = np.array([[3]])\n",
    "pred = (np.dot(X,W) + b)\n",
    "loss = pred - Y\n",
    "print(X.shape)\n",
    "print(loss.shape)\n",
    "print(X.T.shape)\n",
    "print(np.dot(X.T,loss))"
   ]
  },
  {
   "cell_type": "code",
   "execution_count": null,
   "id": "f901f904-e79c-4d98-9bc7-46dce7f20cc1",
   "metadata": {},
   "outputs": [],
   "source": []
  }
 ],
 "metadata": {
  "kernelspec": {
   "display_name": "Python 3 (ipykernel)",
   "language": "python",
   "name": "python3"
  },
  "language_info": {
   "codemirror_mode": {
    "name": "ipython",
    "version": 3
   },
   "file_extension": ".py",
   "mimetype": "text/x-python",
   "name": "python",
   "nbconvert_exporter": "python",
   "pygments_lexer": "ipython3",
   "version": "3.11.7"
  }
 },
 "nbformat": 4,
 "nbformat_minor": 5
}
