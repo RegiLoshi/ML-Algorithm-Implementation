{
 "cells": [
  {
   "cell_type": "markdown",
   "id": "6084502f-3fdf-4676-93e5-35587aabf094",
   "metadata": {},
   "source": [
    "<h3><center><bold>Logistic Regression</bold></center></h3>"
   ]
  },
  {
   "cell_type": "markdown",
   "id": "21850c8b-ef28-4b97-9d27-d79913817ab6",
   "metadata": {},
   "source": [
    "An algorithm of supervised learning, also classification. Uses a sigmoid shape graph to make predictions,\n",
    "and according to a defined threshold, it can be a labeled as a finite value (1 or 0)"
   ]
  },
  {
   "cell_type": "code",
   "execution_count": 101,
   "id": "e94ca466-0e5b-4bdd-92bb-f9a37c982174",
   "metadata": {},
   "outputs": [],
   "source": [
    "import pandas as pd\n",
    "import numpy as np\n",
    "import matplotlib.pyplot as plt\n",
    "import math"
   ]
  },
  {
   "cell_type": "markdown",
   "id": "b47da81e-258b-4975-b42d-f4b8f17aa40c",
   "metadata": {},
   "source": [
    "Sigmoid function follows this formula: </br>\n",
    "<img src=\"Images/sigmoidFormula.png\">"
   ]
  },
  {
   "cell_type": "markdown",
   "id": "c141aff3-c723-4e9a-8932-4e126e2f012e",
   "metadata": {},
   "source": [
    "X in this case will be substituted by the linear formula as used in Linear Regression:\n",
    "<h3><center>Y = <span style=\"text-decoration: overline;\">w</span> &middot; <span style=\"text-decoration: overline;\">X</span> + b</center></h3>\n",
    "where:\n",
    "<ul>\n",
    "<li>w: weight</li> \n",
    "<li>b: bias<br></li>\n",
    "<li>X: dataset</li>\n",
    "</ul>"
   ]
  },
  {
   "cell_type": "code",
   "execution_count": 105,
   "id": "500867b6-6e3d-4284-abd7-e3f1099cc666",
   "metadata": {},
   "outputs": [],
   "source": [
    "class LogisticRegression:\n",
    "    def __init__(self):\n",
    "        self.w = None\n",
    "        self.b = None\n",
    "        self.X_mean = None\n",
    "        self.X_std = None"
   ]
  },
  {
   "cell_type": "code",
   "execution_count": 107,
   "id": "82b09cd8-d793-4402-ac1f-5c4c327d05fe",
   "metadata": {},
   "outputs": [],
   "source": [
    "    def normalize(self, X):\n",
    "        self.X_mean = np.mean(X, axis=0)\n",
    "        self.X_std = np.std(X, axis=0)\n",
    "        return (X - self.X_mean) / self.X_std\n",
    "\n",
    "    def denormalize_weights(self, w_norm, b_norm):\n",
    "        w_denorm = w_norm / self.X_std\n",
    "        b_denorm = b_norm - np.sum(w_denorm * self.X_mean)\n",
    "        return w_denorm, b_denorm"
   ]
  },
  {
   "cell_type": "code",
   "execution_count": 109,
   "id": "035e61e5-1c9f-4333-a84e-421680548b3b",
   "metadata": {},
   "outputs": [],
   "source": [
    "    def sigmoid(self, z):\n",
    "        return 1 / (1 + np.exp(-z))"
   ]
  },
  {
   "cell_type": "markdown",
   "id": "24300ad4-372c-47d7-8e1e-c4613850d512",
   "metadata": {},
   "source": [
    "Cost function of logistic function vectorized and then non vectorized:\n",
    "Formula: <br>\n",
    "<img src=\"Images/costFunction.png\">"
   ]
  },
  {
   "cell_type": "code",
   "execution_count": 112,
   "id": "3544e322-7a8a-475d-a887-e65b9b743c87",
   "metadata": {},
   "outputs": [],
   "source": [
    "    def cost_function(self, features, labels, w, b):\n",
    "        m, _ = features.shape\n",
    "        z = np.dot(features, w) + b\n",
    "        fwb = self.sigmoid(z)\n",
    "        #avoiding log(o)\n",
    "        epsilon = 1e-15\n",
    "        cost = -np.mean(labels * np.log(fwb + epsilon) + (1 - labels) * np.log(1 - fwb + epsilon))\n",
    "        \n",
    "        return cost"
   ]
  },
  {
   "cell_type": "code",
   "execution_count": 114,
   "id": "22bd6251-b411-48d4-85cc-d47fd1110633",
   "metadata": {},
   "outputs": [],
   "source": [
    "    def cost_functionNV(self, features, labels, w, b):\n",
    "        m , _ = features.shape\n",
    "        cost = 0\n",
    "        epsilon = 1e-15\n",
    "        z = np.dot(features, w) + b\n",
    "        for i in range(m):\n",
    "            fwb = self.sigmoid(z[i])\n",
    "            cost += (labels[i]*np.log(fwb + epsilon)+(1-labels[i])*np.log(1-fwb + epsilon))\n",
    "        return -(cost/m)"
   ]
  },
  {
   "attachments": {},
   "cell_type": "markdown",
   "id": "2ccd7756-b000-4ebb-b434-b975d6226473",
   "metadata": {},
   "source": [
    "Gradient Descent formula as shows below: <br>\n",
    "<img src=\"Images/GSLogistic.png\" >"
   ]
  },
  {
   "cell_type": "code",
   "execution_count": 117,
   "id": "311fa83c-b095-4576-b89a-7dcf7dcf3cf4",
   "metadata": {},
   "outputs": [],
   "source": [
    "    def gradient_descent(self, features, labels, alpha, attempts, lambda_):\n",
    "        m, n = features.shape\n",
    "        w = np.zeros(n)\n",
    "        b = 0\n",
    "        J_history = []\n",
    "        w_history = []\n",
    "\n",
    "        for _ in range(attempts):\n",
    "            z = np.dot(features, w) + b\n",
    "            fwb = self.sigmoid(z) - labels\n",
    "\n",
    "            dj_dw = (np.dot(features.T, loss) / m) + (lambda_ / m) * w\n",
    "            dj_db = np.mean(loss)\n",
    "\n",
    "            w = w - alpha * dj_dw\n",
    "            b = b - alpha * dj_db\n",
    "\n",
    "            if i < 100000:\n",
    "                cost = self.cost_function(features, labels, w, b)\n",
    "                J_history.append(cost)\n",
    "                if i % math.ceil(attempts / 10) == 0 or i == (attempts - 1):\n",
    "                    w_history.append(w)\n",
    "                    print(f\"Iteration {i:4}: Cost {float(cost):8.2f}\")\n",
    "\n",
    "        return w, b, J_history, w_history"
   ]
  },
  {
   "cell_type": "code",
   "execution_count": 119,
   "id": "de600133-57d0-4b59-9977-2a65e5a5679b",
   "metadata": {},
   "outputs": [],
   "source": [
    "    def fit(self, features, labels, alpha=0.01, attempts=10000, lambda_=0):\n",
    "            normalized_features = self.normalize(features)\n",
    "            w_norm, b_norm, J_history, w_history = self.gradient_descent(normalized_features, labels, alpha, attempts, lambda_)\n",
    "            \n",
    "            self.w, self.b = self.denormalize_weights(w_norm, b_norm)\n",
    "            \n",
    "            return self.w, self.b, J_history, w_history"
   ]
  },
  {
   "cell_type": "code",
   "execution_count": 121,
   "id": "efabb2f4-5e50-4d7d-97c0-357c6e0da13b",
   "metadata": {},
   "outputs": [],
   "source": [
    "    def predict(self, predict_values, threshold = 0.5):\n",
    "            # Ensure predict_values is 2D\n",
    "            if predict_values.ndim == 1:\n",
    "                predict_values = predict_values.reshape(1, -1)\n",
    "            \n",
    "            m, n = predict_values.shape\n",
    "            probabilities = np.zeros(m)\n",
    "            predictions = np.zeros(m)\n",
    "            for i in range(m):\n",
    "                f_wb = self.sigmoid(np.dot(self.w, predict_values[i]) + self.b)\n",
    "                probabilities[i] = f_wb\n",
    "                predictions[i] = 1 if f_wb >= threshold else 0\n",
    "            return predictions, probabilities"
   ]
  },
  {
   "cell_type": "code",
   "execution_count": 123,
   "id": "540112e6-9d71-4717-9d4c-022ddd690a69",
   "metadata": {},
   "outputs": [],
   "source": [
    "class LogisticRegression:\n",
    "    def __init__(self):\n",
    "        self.w = None\n",
    "        self.b = None\n",
    "        self.X_mean = None\n",
    "        self.X_std = None\n",
    "\n",
    "    def normalize(self, X):\n",
    "        self.X_mean = np.mean(X, axis=0)\n",
    "        self.X_std = np.std(X, axis=0)\n",
    "        return (X - self.X_mean) / self.X_std\n",
    "\n",
    "    def denormalize_weights(self, w_norm, b_norm):\n",
    "        w_denorm = w_norm / self.X_std\n",
    "        b_denorm = b_norm - np.sum(w_denorm * self.X_mean)\n",
    "        return w_denorm, b_denorm\n",
    "\n",
    "    def sigmoid(self, z):\n",
    "        return 1 / (1 + np.exp(-z))\n",
    "\n",
    "    def cost_function(self, features, labels, w, b):\n",
    "        m, _ = features.shape\n",
    "        z = np.dot(features, w) + b\n",
    "        fwb = self.sigmoid(z)\n",
    "        #avoiding log(o)\n",
    "        epsilon = 1e-15\n",
    "        cost = -np.mean(labels * np.log(fwb + epsilon) + (1 - labels) * np.log(1 - fwb + epsilon))\n",
    "        \n",
    "        return cost\n",
    "\n",
    "    def gradient_descent(self, features, labels, alpha, attempts, lambda_):\n",
    "        m, n = features.shape\n",
    "        w = np.zeros(n)\n",
    "        b = 0\n",
    "        J_history = []\n",
    "        w_history = []\n",
    "\n",
    "        for i in range(attempts):\n",
    "            z = np.dot(features, w) + b\n",
    "            f_wb = self.sigmoid(z)\n",
    "            loss = f_wb - labels\n",
    "\n",
    "            dj_dw = (np.dot(features.T, loss) / m) + (lambda_ / m) * w\n",
    "            dj_db = np.mean(loss)\n",
    "\n",
    "            w = w - alpha * dj_dw\n",
    "            b = b - alpha * dj_db\n",
    "\n",
    "            if i < 100000:\n",
    "                cost = self.cost_function(features, labels, w, b)\n",
    "                J_history.append(cost)\n",
    "                if i % math.ceil(attempts / 10) == 0 or i == (attempts - 1):\n",
    "                    w_history.append(w)\n",
    "                    print(f\"Iteration {i:4}: Cost {float(cost):8.2f}\")\n",
    "\n",
    "        return w, b, J_history, w_history\n",
    "\n",
    "    def fit(self, features, labels, alpha=0.01, attempts=10000, lambda_=0):\n",
    "        normalized_features = self.normalize(features)\n",
    "        w_norm, b_norm, J_history, w_history = self.gradient_descent(normalized_features, labels, alpha, attempts, lambda_)\n",
    "        \n",
    "        self.w, self.b = self.denormalize_weights(w_norm, b_norm)\n",
    "        \n",
    "        return self.w, self.b, J_history, w_history\n",
    "\n",
    "    def predict(self, predict_values, threshold = 0.5):\n",
    "            # Ensure predict_values is 2D\n",
    "            if predict_values.ndim == 1:\n",
    "                predict_values = predict_values.reshape(1, -1)\n",
    "            \n",
    "            m, n = predict_values.shape\n",
    "            probabilities = np.zeros(m)\n",
    "            predictions = np.zeros(m)\n",
    "            for i in range(m):\n",
    "                f_wb = self.sigmoid(np.dot(self.w, predict_values[i]) + self.b)\n",
    "                probabilities[i] = f_wb\n",
    "                predictions[i] = 1 if f_wb >= threshold else 0\n",
    "            return predictions, probabilities"
   ]
  },
  {
   "cell_type": "code",
   "execution_count": 125,
   "id": "4bf9c649-5abc-4dce-9e6f-ed06db331387",
   "metadata": {},
   "outputs": [
    {
     "name": "stdout",
     "output_type": "stream",
     "text": [
      "Iteration    0: Cost     0.69\n",
      "Iteration 1000: Cost     0.48\n",
      "Iteration 2000: Cost     0.47\n",
      "Iteration 3000: Cost     0.47\n",
      "Iteration 4000: Cost     0.47\n",
      "Iteration 5000: Cost     0.47\n",
      "Iteration 6000: Cost     0.47\n",
      "Iteration 7000: Cost     0.47\n",
      "Iteration 8000: Cost     0.47\n",
      "Iteration 9000: Cost     0.47\n",
      "Iteration 9999: Cost     0.47\n",
      "Final w: [ 1.21263189e-01  3.46311849e-02 -1.29624335e-02  5.51108427e-04\n",
      " -1.13254278e-03  8.83706816e-02  9.32456754e-01  1.50431218e-02]\n",
      "Final b: -8.31204279\n",
      "Prediction: 1.0\n",
      "Probability of class 1: 0.8251\n",
      "Probability of class 0: 0.1749\n"
     ]
    },
    {
     "data": {
      "image/png": "[encoded data removed]",
      "text/plain": [
       "<Figure size 1200x500 with 1 Axes>"
      ]
     },
     "metadata": {},
     "output_type": "display_data"
    }
   ],
   "source": [
    "if __name__ == \"__main__\":\n",
    "    url = \"/Users/regiloshi/Downloads/diabetes2.csv\"\n",
    "    try:\n",
    "        housing = pd.read_csv(url)\n",
    "        X = housing.drop(columns=['Outcome']).values\n",
    "        Y = housing['Outcome'].values\n",
    "    except Exception as e:\n",
    "        print(f\"Error loading data: {e}\")\n",
    "        exit()\n",
    "\n",
    "    model = LogisticRegression()\n",
    "    w_final, b_final, J_hist, p_hist = model.fit(X, Y, alpha=0.01, attempts=10000, lambda_=1)\n",
    "    \n",
    "    print(f\"Final w: {model.w}\")\n",
    "    print(f\"Final b: {model.b:.8f}\")\n",
    "\n",
    "\n",
    "    test_X = np.array([[8, 176, 90, 34, 300, 33.7, 0.467, 58]])\n",
    "    prediction, probability = model.predict(test_X)\n",
    "    \n",
    "    print(f\"Prediction: {prediction[0]}\")\n",
    "    print(f\"Probability of class 1: {probability[0]:.4f}\")\n",
    "    print(f\"Probability of class 0: {1 - probability[0]:.4f}\")\n",
    "\n",
    "    plt.figure(figsize=(12, 5))\n",
    "    \n",
    "    plt.subplot(1, 2, 1)\n",
    "    plt.plot(J_hist)\n",
    "    plt.xlabel('Iterations')\n",
    "    plt.ylabel('Cost')\n",
    "    plt.title('Cost Function over Iterations')\n",
    "    plt.tight_layout()\n",
    "    plt.show()"
   ]
  }
 ],
 "metadata": {
  "kernelspec": {
   "display_name": "Python 3 (ipykernel)",
   "language": "python",
   "name": "python3"
  },
  "language_info": {
   "codemirror_mode": {
    "name": "ipython",
    "version": 3
   },
   "file_extension": ".py",
   "mimetype": "text/x-python",
   "name": "python",
   "nbconvert_exporter": "python",
   "pygments_lexer": "ipython3",
   "version": "3.11.7"
  }
 },
 "nbformat": 4,
 "nbformat_minor": 5
}
